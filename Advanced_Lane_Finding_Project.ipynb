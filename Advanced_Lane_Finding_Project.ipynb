{
 "cells": [
  {
   "cell_type": "markdown",
   "metadata": {},
   "source": [
    "# Advanced Lane Finding Project \n",
    "\n",
    "__The goals / steps of this project are the following:__ \n",
    "\n",
    "\n",
    "1- Compute the camera calibration matrix and distortion coefﬁcients given a set of chessboard images.  \n",
    "2- Apply a distortion correction to raw images.  \n",
    "3- Use gradients and color transforms to create a thresholded binary image.  \n",
    "4- Apply a perspective transform to rectify binary image (\"birds-eye view\").  \n",
    "5- Detect lane pixels and ﬁt to ﬁnd the lane boundary.  \n",
    "6- Determine the curvature of the lane and vehicle position with respect to center.  \n",
    "7- Warp the detected lane boundaries back onto the original image.  \n",
    "8- Output visual display of the lane boundaries and numerical estimation of lane curvature and vehicle position.  \n"
   ]
  },
  {
   "cell_type": "code",
   "execution_count": null,
   "metadata": {
    "collapsed": true
   },
   "outputs": [],
   "source": [
    "# importing some useful packages\n",
    "import os\n",
    "import matplotlib.pyplot as plt\n",
    "import matplotlib.image as mpimg\n",
    "import numpy as np\n",
    "import cv2\n",
    "\n",
    "from ipywidgets import widgets\n",
    "from ipywidgets import interact, interactive, fixed, interact_manual\n",
    "\n",
    "%matplotlib inline"
   ]
  },
  {
   "cell_type": "markdown",
   "metadata": {},
   "source": [
    "## 1. Calibration of the camera"
   ]
  },
  {
   "cell_type": "code",
   "execution_count": null,
   "metadata": {
    "scrolled": true
   },
   "outputs": [],
   "source": [
    "def _build_full_paths(dir_root):\n",
    "    return [dir_root+'/'+fn for fn in os.listdir(dir_root)]\n",
    "\n",
    "# The process to calibrate the camera is split into 2 phases:\n",
    "# - first find the corners of several images with different angles of a chessboards,\n",
    "# - second, calibrate the camera and \n",
    "class CameraCalibrator:\n",
    "    def __init__(self, nx=9, ny=6):\n",
    "        self.nx = nx\n",
    "        self.ny = ny\n",
    "        self.mtx = None\n",
    "        self.dist = None\n",
    "        \n",
    "    def _find_corners(self, filenames, show_images=False):\n",
    "        objpoints, imgpoints = [], [] # 3d points in real world space, # 2d points in image plane.\n",
    "    \n",
    "        # Prepare obj points\n",
    "        objp = np.zeros((self.nx * self.ny, 3), np.float32)\n",
    "        objp[:,:2] = np.mgrid[0:self.nx, 0:self.ny].T.reshape(-1,2)\n",
    "\n",
    "        img_size = None\n",
    "    \n",
    "        for fn in filenames:\n",
    "            #reading in an image\n",
    "            image = mpimg.imread(fn)\n",
    "            gray = cv2.cvtColor(image,cv2.COLOR_RGB2GRAY)\n",
    "\n",
    "            ret, corners = cv2.findChessboardCorners(gray, (self.nx,self.ny), None)\n",
    "        \n",
    "            if img_size is None:\n",
    "                img_size = (image.shape[1], image.shape[0])\n",
    "        \n",
    "            if ret == True:\n",
    "                objpoints.append(objp)\n",
    "                imgpoints.append(corners)\n",
    "                \n",
    "                if show_images:\n",
    "                    image = cv2.drawChessboardCorners(image, (self.nx, self.ny), corners, ret)\n",
    "                    plt.imshow(image)\n",
    "                    plt.figure()\n",
    "    \n",
    "        return objpoints, imgpoints, img_size\n",
    "    \n",
    "    def _calibrate_camera(self, objpoints, imgpoints, img_size):\n",
    "        ret, mtx, dist, rvecs, tvecs = cv2.calibrateCamera(objpoints, imgpoints, img_size, None, None)\n",
    "        return mtx, dist\n",
    "    \n",
    "    def calibrate(self, filenames):\n",
    "        objpoints, imgpoints, img_size = self._find_corners( filenames, show_images=True )\n",
    "        self.mtx, self.dist = self._calibrate_camera(objpoints, imgpoints, img_size)\n",
    "        return self.mtx, self.dist\n",
    "       \n",
    "        \n",
    "ccal1 = CameraCalibrator()\n",
    "ccal1.calibrate( _build_full_paths('camera_cal/') );\n"
   ]
  },
  {
   "cell_type": "markdown",
   "metadata": {},
   "source": [
    "## 2.  Apply a distortion correction to raw images."
   ]
  },
  {
   "cell_type": "markdown",
   "metadata": {},
   "source": [
    "### a. Compute undistort image"
   ]
  },
  {
   "cell_type": "code",
   "execution_count": null,
   "metadata": {
    "collapsed": true
   },
   "outputs": [],
   "source": [
    "def _show_dist_undist_images_by_2(images, title0='Original Image', title1='Undistorted Image'):\n",
    "    for img, dst in images:\n",
    "        f, (ax1, ax2) = plt.subplots(1, 2, figsize=(20,10))\n",
    "        ax1.imshow(img, cmap='gray')\n",
    "        ax1.set_title(title0, fontsize=30)\n",
    "        ax2.imshow(dst, cmap='gray')\n",
    "        ax2.set_title(title1, fontsize=30)\n",
    "\n",
    "class Undistorter:\n",
    "    def __init__(self, camera_calibrator):\n",
    "        self.camera_calibrator = camera_calibrator\n",
    "        \n",
    "    def undistort_image(self, img):\n",
    "        mtx, dist = self.camera_calibrator.mtx, self.camera_calibrator.dist\n",
    "        return cv2.undistort(img, mtx, dist, None, mtx)\n",
    "        \n",
    "    def read_undistort_images(self, filenames):\n",
    "        undistorted_imgs = []\n",
    "    \n",
    "        for fn in filenames:\n",
    "            img = mpimg.imread(fn)\n",
    "        \n",
    "            undst = self.undistort_image(img)\n",
    "            undistorted_imgs.append( (img, undst, ) )\n",
    "        \n",
    "        return undistorted_imgs\n",
    "        \n",
    "undistorter = Undistorter(ccal1)\n"
   ]
  },
  {
   "cell_type": "code",
   "execution_count": null,
   "metadata": {},
   "outputs": [],
   "source": [
    "_show_dist_undist_images_by_2( undistorter.read_undistort_images([ 'camera_cal/calibration1.jpg' ]) )"
   ]
  },
  {
   "cell_type": "markdown",
   "metadata": {},
   "source": [
    "### b. Compute perspective matrix"
   ]
  },
  {
   "cell_type": "code",
   "execution_count": null,
   "metadata": {
    "collapsed": true
   },
   "outputs": [],
   "source": [
    "class PerspectiveWarper:\n",
    "    def __init__(self, undistorter):\n",
    "        self.undistorter = undistorter\n",
    "        self.M = None\n",
    "        \n",
    "    def compute_perspective_transform(self, src, dst):\n",
    "        self.M = cv2.getPerspectiveTransform(src, dst)\n",
    "    \n",
    "    def warp_perspective(self, img):\n",
    "        if self.M is None:\n",
    "            raise ValueError(\"!!! The matrix M must be computed by method compute_perspective_transform() before calling warp_perspective()\")\n",
    "        \n",
    "        undist = self.undistorter.undistort_image(img)\n",
    "        img_size = (undist.shape[1], undist.shape[0])\n",
    "        return cv2.warpPerspective(undist, self.M, img_size)\n"
   ]
  },
  {
   "cell_type": "markdown",
   "metadata": {},
   "source": [
    "#### Perspective warper applied to chessboards"
   ]
  },
  {
   "cell_type": "code",
   "execution_count": null,
   "metadata": {
    "scrolled": true
   },
   "outputs": [],
   "source": [
    "chess_persp_warper = PerspectiveWarper(undistorter)\n",
    "\n",
    "def chessboard_perspective_warper(perspective_warper, img, offset = 100, nx=9, ny=6, draw_corners=True):\n",
    "    undistorter = perspective_warper.undistorter\n",
    "    \n",
    "    undist = undistorter.undistort_image(img)\n",
    "    # Convert undistorted image to grayscale\n",
    "    gray = cv2.cvtColor(undist, cv2.COLOR_RGB2GRAY)\n",
    "    # Search for corners in the grayscaled image\n",
    "    ret, corners = cv2.findChessboardCorners(gray, (nx, ny), None)\n",
    "    \n",
    "    if ret == True:\n",
    "        if draw_corners:\n",
    "            cv2.drawChessboardCorners(undist, (nx, ny), corners, ret)\n",
    "            \n",
    "        img_size = (gray.shape[1], gray.shape[0])\n",
    "        \n",
    "        src = np.float32([corners[0], corners[nx-1], corners[-1], corners[-nx]])\n",
    "        dst = np.float32([[offset, offset], [img_size[0]-offset, offset], \n",
    "                            [img_size[0]-offset, img_size[1]-offset], [offset, img_size[1]-offset]])\n",
    "    \n",
    "        perspective_warper.compute_perspective_transform(src, dst)\n",
    "        return perspective_warper.warp_perspective(undist)\n",
    "    \n",
    "    return None\n",
    "    \n",
    "def read_perspective_warper_chess_images(perspective_warper, filenames):\n",
    "    result = []\n",
    "    for fn in filenames:\n",
    "        img = mpimg.imread(fn)\n",
    "        warped = chessboard_perspective_warper(perspective_warper, img)\n",
    "        \n",
    "        if warped is None:\n",
    "            continue\n",
    "        result.append( (img, warped,) )\n",
    "        \n",
    "    return result\n",
    "\n",
    "_show_dist_undist_images_by_2( read_perspective_warper_chess_images(chess_persp_warper, _build_full_paths('camera_cal/')), title1='Warped Image' )"
   ]
  },
  {
   "cell_type": "markdown",
   "metadata": {},
   "source": [
    "#### Perspective warper applied to road images"
   ]
  },
  {
   "cell_type": "code",
   "execution_count": null,
   "metadata": {
    "scrolled": true
   },
   "outputs": [],
   "source": [
    "persp_warper = PerspectiveWarper(undistorter)\n",
    "\n",
    "# Compute the perspective matrix for the road:\n",
    "def compute_road_perspective_matrix(perspective_warper):\n",
    "    # src = np.float32([[535, 460], [750, 460], [1480, 720], [-180, 720]])\n",
    "    src = np.float32([[535, 460], [750, 460], [1480, 720], [-180, 720]])\n",
    "    dst = np.float32([[0, 0], [1280, 0], [1280, 720], [0, 720]])\n",
    "    \n",
    "    perspective_warper.compute_perspective_transform(src, dst)\n",
    "\n",
    "compute_road_perspective_matrix(persp_warper)\n",
    "    \n",
    "def read_perspective_warper_road_images(perspective_warper, filenames):\n",
    "    undistorter = perspective_warper.undistorter\n",
    "    \n",
    "    result = []\n",
    "    for fn in filenames:\n",
    "        img = mpimg.imread(fn)\n",
    "        undist = undistorter.undistort_image(img)\n",
    "        warped = perspective_warper.warp_perspective(undist)\n",
    "        \n",
    "        if warped is None:\n",
    "            continue\n",
    "        \n",
    "        result.append( (img, warped,) )\n",
    "        \n",
    "    return result\n",
    "\n",
    "_show_dist_undist_images_by_2( read_perspective_warper_road_images(persp_warper, _build_full_paths('test_images/')), title1='Warped Image' )"
   ]
  },
  {
   "cell_type": "code",
   "execution_count": null,
   "metadata": {
    "scrolled": false
   },
   "outputs": [],
   "source": [
    "img = mpimg.imread('test_images/straight_lines1.jpg')\n",
    "undist = undistorter.undistort_image(img)\n",
    "\n",
    "def find_perspective_matrix(xt1,xt2,yt,xl1,xl2,yl):\n",
    "    # src = np.float32([[535, 460], [750, 460], [1480, 720], [-180, 720]])\n",
    "    src = np.float32([[xt1, yt], [xt2, yt], [xl2, yl], [xl1, yl]])\n",
    "    dst = np.float32([[0, 0], [1280, 0], [1280, 720], [0, 720]])\n",
    "    persp_warper.compute_perspective_transform(src, dst)\n",
    "    \n",
    "    warped = persp_warper.warp_perspective(undist)\n",
    "    \n",
    "    _show_dist_undist_images_by_2([(img, warped)])\n",
    "    plt.show()\n",
    "    \n",
    "interact(find_perspective_matrix, \n",
    "            xt1=widgets.IntSlider(min=0,max=650,step=1,value=535),\n",
    "            xt2=widgets.IntSlider(min=630,max=1280,step=1,value=750),\n",
    "            yt=widgets.IntSlider(min=360,max=720,step=1,value=460),\n",
    "            xl1=widgets.IntSlider(min=-300,max=650,step=1,value=-180),\n",
    "            xl2=widgets.IntSlider(min=600,max=1550,step=1,value=1480),\n",
    "            yl=widgets.IntSlider(min=360,max=800,step=1,value=720),\n",
    "        )"
   ]
  },
  {
   "cell_type": "markdown",
   "metadata": {
    "collapsed": true
   },
   "source": [
    "## 3. Use gradients and color transforms to create a thresholded binary image."
   ]
  },
  {
   "cell_type": "code",
   "execution_count": null,
   "metadata": {
    "collapsed": true
   },
   "outputs": [],
   "source": [
    "class ImageSobelThresholder:\n",
    "    def __init__(self, sobel_kernel=9, abs_thresh=(20,100), mag_thresh=(30, 100), dir_thresh=(0.7, 1.3)):\n",
    "        self.sobel_kernel = sobel_kernel\n",
    "        \n",
    "        # Absolute sobelthreshold\n",
    "        self.abs_thresh = abs_thresh\n",
    "        self.mag_thresh = mag_thresh\n",
    "        self.dir_thresh = dir_thresh\n",
    "        \n",
    "    def abs_sobel_threshold(self, gray, orient='x'):\n",
    "        # Take the derivative in x or y given orient = 'x' or 'y'\n",
    "        if orient == 'x':\n",
    "            sobel = cv2.Sobel(gray, cv2.CV_64F, 1, 0, ksize=self.sobel_kernel)\n",
    "        elif orient == 'y':\n",
    "            sobel = cv2.Sobel(gray, cv2.CV_64F, 0, 1, ksize=self.sobel_kernel)\n",
    "    \n",
    "        # Take the absolute value of the derivative or gradient\n",
    "        abs_sobel = np.absolute(sobel)\n",
    "    \n",
    "        # Scale to 8-bit (0 - 255) then convert to type = np.uint8\n",
    "        scaled_sobel = np.uint8(255*abs_sobel/np.max(abs_sobel))\n",
    "    \n",
    "        # Create a mask of 1's where the scaled gradient magnitude is > thresh_min and < thresh_max\n",
    "        binary_output = np.zeros_like(scaled_sobel)\n",
    "        binary_output[(scaled_sobel >= self.abs_thresh[0]) & (scaled_sobel <= self.abs_thresh[1])] = 1\n",
    "\n",
    "        # Return this mask as your binary_output image\n",
    "        return binary_output\n",
    "    \n",
    "    \n",
    "    def mag_sobel_threshold(self, gray):\n",
    "        # Take both Sobel x and y gradients\n",
    "        sobelx = cv2.Sobel(gray, cv2.CV_64F, 1, 0, ksize=self.sobel_kernel)\n",
    "        sobely = cv2.Sobel(gray, cv2.CV_64F, 0, 1, ksize=self.sobel_kernel)\n",
    "        # Calculate the gradient magnitude\n",
    "        gradmag = np.sqrt(sobelx**2 + sobely**2)\n",
    "        # Rescale to 8 bit\n",
    "        scale_factor = np.max(gradmag)/255. \n",
    "        gradmag = (gradmag/scale_factor).astype(np.uint8) \n",
    "        # Create a binary image of ones where threshold is met, zeros otherwise\n",
    "        binary_output = np.zeros_like(gradmag)\n",
    "        binary_output[(gradmag >= self. mag_thresh[0]) & (gradmag <= self.mag_thresh[1])] = 1\n",
    "\n",
    "        # Return the binary image\n",
    "        return binary_output\n",
    "    \n",
    "    \n",
    "    def dir_sobel_threshold(self, gray):\n",
    "        # Calculate the x and y gradients\n",
    "        sobelx = cv2.Sobel(gray, cv2.CV_64F, 1, 0, ksize=self.sobel_kernel)\n",
    "        sobely = cv2.Sobel(gray, cv2.CV_64F, 0, 1, ksize=self.sobel_kernel)\n",
    "        # Take the absolute value of the gradient direction, \n",
    "        # apply a threshold, and create a binary image result\n",
    "        absgraddir = np.arctan2(np.absolute(sobely), np.absolute(sobelx))\n",
    "        binary_output =  np.zeros_like(absgraddir)\n",
    "        binary_output[(absgraddir >= self.dir_thresh[0]) & (absgraddir <= self.dir_thresh[1])] = 1\n",
    "\n",
    "        # Return the binary image\n",
    "        return binary_output\n",
    "    \n",
    "    \n",
    "    def combined_sobel_thresholds(self, gray):\n",
    "        # Apply each of the thresholding functions\n",
    "        gradx = self.abs_sobel_threshold(gray, orient='x')\n",
    "        grady = self.abs_sobel_threshold(gray, orient='y')\n",
    "        mag_binary = self.mag_sobel_threshold(gray)\n",
    "        dir_binary = self.dir_sobel_threshold(gray)\n",
    "    \n",
    "        combined = np.zeros_like(dir_binary)\n",
    "        combined[((gradx == 1) & (grady == 1)) | ((mag_binary == 1) & (dir_binary == 1))] = 1\n",
    "        return combined\n",
    "    \n",
    "    def gray_combined_sobel_thresholds(self, undist):\n",
    "        gray = cv2.cvtColor(undist, cv2.COLOR_RGB2GRAY)\n",
    "        return self.combined_sobel_thresholds(gray)"
   ]
  },
  {
   "cell_type": "code",
   "execution_count": null,
   "metadata": {
    "collapsed": true
   },
   "outputs": [],
   "source": [
    "def apply_thresholds(undist, threshold_fct, cvt_2_gray=True):\n",
    "    if cvt_2_gray:\n",
    "        gray = cv2.cvtColor(undist, cv2.COLOR_RGB2GRAY)\n",
    "        return threshold_fct(gray)\n",
    "    else:\n",
    "        return threshold_fct(undist)\n",
    "\n",
    "def show_thresholded_binary_images(undistorter, threshold_fct, cvt_2_gray=True):\n",
    "    result = []\n",
    "    for fn in _build_full_paths(\"test_images/\"):\n",
    "        img = mpimg.imread(fn)\n",
    "        undist = undistorter.undistort_image(img)\n",
    "        \n",
    "        undist = persp_warper.warp_perspective(undist)\n",
    "        \n",
    "        thres_img = apply_thresholds(undist, threshold_fct, cvt_2_gray)\n",
    "        result.append( (img, thres_img,) )\n",
    "        \n",
    "    return result\n",
    "\n",
    "sobel_thresholder = ImageSobelThresholder()"
   ]
  },
  {
   "cell_type": "markdown",
   "metadata": {},
   "source": [
    "### a. Apply Gradients"
   ]
  },
  {
   "cell_type": "markdown",
   "metadata": {},
   "source": [
    "#### Sobel"
   ]
  },
  {
   "cell_type": "code",
   "execution_count": null,
   "metadata": {
    "scrolled": false
   },
   "outputs": [],
   "source": [
    "_show_dist_undist_images_by_2( show_thresholded_binary_images(undistorter, sobel_thresholder.abs_sobel_threshold), title1='Sobel Binary Image' )"
   ]
  },
  {
   "cell_type": "markdown",
   "metadata": {},
   "source": [
    "#### Gradient Magnitude"
   ]
  },
  {
   "cell_type": "code",
   "execution_count": null,
   "metadata": {
    "scrolled": false
   },
   "outputs": [],
   "source": [
    "_show_dist_undist_images_by_2( show_thresholded_binary_images(undistorter, sobel_thresholder.mag_sobel_threshold), title1='Gradient Magnitude Image' )\n"
   ]
  },
  {
   "cell_type": "markdown",
   "metadata": {},
   "source": [
    "#### Gradient direction"
   ]
  },
  {
   "cell_type": "code",
   "execution_count": null,
   "metadata": {
    "scrolled": false
   },
   "outputs": [],
   "source": [
    "_show_dist_undist_images_by_2( show_thresholded_binary_images(undistorter, sobel_thresholder.dir_sobel_threshold), title1='Gradient Direction Binary Image' )"
   ]
  },
  {
   "cell_type": "markdown",
   "metadata": {},
   "source": [
    "#### Combined gradient thresholds"
   ]
  },
  {
   "cell_type": "code",
   "execution_count": null,
   "metadata": {
    "scrolled": false
   },
   "outputs": [],
   "source": [
    "_show_dist_undist_images_by_2( show_thresholded_binary_images(undistorter, sobel_thresholder.combined_sobel_thresholds), title1='Combined Thresholded Binary Image' )\n"
   ]
  },
  {
   "cell_type": "code",
   "execution_count": null,
   "metadata": {},
   "outputs": [],
   "source": [
    "img = mpimg.imread('test_images/test1.jpg')\n",
    "undist = undistorter.undistort_image(img)\n",
    "gray = cv2.cvtColor(undist, cv2.COLOR_RGB2GRAY)\n",
    "\n",
    "def find_gradient_thresholds(sobel_kernel, abs_thresh_low, abs_thresh_high, mag_thresh_low, mag_thresh_high, dir_thresh_low, dir_thresh_high):\n",
    "    sobel_kernel = int(sobel_kernel)\n",
    "    sobel_thresholder = ImageSobelThresholder(sobel_kernel=sobel_kernel, abs_thresh=(abs_thresh_low,abs_thresh_high), mag_thresh=(mag_thresh_low, mag_thresh_high), dir_thresh=(dir_thresh_low, dir_thresh_high))\n",
    "    binary = sobel_thresholder.combined_sobel_thresholds(gray)\n",
    "    \n",
    "    _show_dist_undist_images_by_2([(img, binary)])\n",
    "    plt.show()\n",
    "    \n",
    "interact(find_gradient_thresholds, \n",
    "            sobel_kernel=widgets.Dropdown(options=['3', '5', '7', '9', '13', '15', '17', '21', '23', '25', '27'], value='9'),\n",
    "            abs_thresh_low=widgets.IntSlider(min=0,max=255,step=1,value=25),\n",
    "            abs_thresh_high=widgets.IntSlider(min=0,max=255,step=1,value=100),\n",
    "            mag_thresh_low=widgets.IntSlider(min=0,max=255,step=1,value=30),\n",
    "            mag_thresh_high=widgets.IntSlider(min=0,max=255,step=1,value=100),\n",
    "            dir_thresh_low=widgets.FloatSlider(min=0,max=3.2,step=0.05,value=1.6),\n",
    "            dir_thresh_high=widgets.FloatSlider(min=0,max=3.2,step=0.05,value=3.2),\n",
    "        )"
   ]
  },
  {
   "cell_type": "markdown",
   "metadata": {},
   "source": [
    "### b. Apply Color Transforms"
   ]
  },
  {
   "cell_type": "markdown",
   "metadata": {},
   "source": [
    "#### Color Threshold"
   ]
  },
  {
   "cell_type": "code",
   "execution_count": null,
   "metadata": {
    "collapsed": true
   },
   "outputs": [],
   "source": [
    "class ImageColorThresholder:\n",
    "    def __init__(self, ch_thresh=( ('H', (15, 100)), ('S', (90, 255)) ) ):\n",
    "        self.ch_thresh = ch_thresh\n",
    "        \n",
    "    @staticmethod\n",
    "    def color_threshold(img, channel='S', thresh=(90, 255)):\n",
    "        ch_map = {\n",
    "            'H': 0,\n",
    "            'L': 1,\n",
    "            'S': 2\n",
    "        }\n",
    "        hls = cv2.cvtColor(img, cv2.COLOR_RGB2HLS)\n",
    "        channel = hls[:,:,ch_map[channel]]\n",
    "        \n",
    "        binary = np.zeros_like(channel)\n",
    "        binary[(channel > thresh[0]) & (channel <= thresh[1])] = 1\n",
    "        return binary\n",
    "    \n",
    "    def combined_color_thresholds(self, img):\n",
    "        prev_binary = None\n",
    "        for ch, thresh in self.ch_thresh:\n",
    "            binary = self.color_threshold(img, ch, thresh)\n",
    "            if prev_binary is not None:\n",
    "                binary = binary | prev_binary\n",
    "            \n",
    "            prev_binary = binary\n",
    "    \n",
    "        img_size = (img.shape[1], img.shape[0])\n",
    "        result = np.zeros_like(img_size)\n",
    "        result[binary] = 1\n",
    "        return binary\n",
    "    \n",
    "color_thresholder = ImageColorThresholder()"
   ]
  },
  {
   "cell_type": "code",
   "execution_count": null,
   "metadata": {
    "scrolled": false
   },
   "outputs": [],
   "source": [
    "_show_dist_undist_images_by_2( show_thresholded_binary_images(undistorter, ImageColorThresholder.color_threshold, cvt_2_gray=False), title1='Color Transform' )\n"
   ]
  },
  {
   "cell_type": "code",
   "execution_count": null,
   "metadata": {
    "scrolled": false
   },
   "outputs": [],
   "source": [
    "def test_L_color_thresholding(img):\n",
    "    return ImageColorThresholder.color_threshold(img, channel='S', thresh=(90, 255))\n",
    "\n",
    "_show_dist_undist_images_by_2( show_thresholded_binary_images(undistorter, test_L_color_thresholding, cvt_2_gray=False), title1='Color Transform' )\n"
   ]
  },
  {
   "cell_type": "markdown",
   "metadata": {},
   "source": [
    "#### Combined Color Threshold"
   ]
  },
  {
   "cell_type": "code",
   "execution_count": null,
   "metadata": {
    "scrolled": false
   },
   "outputs": [],
   "source": [
    "_show_dist_undist_images_by_2( show_thresholded_binary_images(undistorter, color_thresholder.combined_color_thresholds, cvt_2_gray=False), title1='Combined Color Transform' )\n"
   ]
  },
  {
   "cell_type": "code",
   "execution_count": null,
   "metadata": {},
   "outputs": [],
   "source": [
    "img = mpimg.imread('test_images/test5.jpg')\n",
    "undist = undistorter.undistort_image(img)\n",
    "\n",
    "def find_color_thresholds(H_thresh, S_thresh):\n",
    "    color_thresholder = ImageColorThresholder(ch_thresh = (('H', H_thresh,), ('S', S_thresh,),) )\n",
    "    binary = color_thresholder.combined_color_thresholds(undist)\n",
    "    \n",
    "    _show_dist_undist_images_by_2([(img, binary)])\n",
    "    plt.show()\n",
    "    \n",
    "interact(find_color_thresholds,\n",
    "            H_thresh=widgets.FloatRangeSlider(value=[15, 100], min=0, max=180, step=1,),\n",
    "            # L_thresh=widgets.FloatRangeSlider(value=[2, 20], min=0, max=255, step=1,),\n",
    "            S_thresh=widgets.FloatRangeSlider(value=[90, 255], min=0, max=255, step=1,),\n",
    "        )"
   ]
  },
  {
   "cell_type": "markdown",
   "metadata": {},
   "source": [
    "## 4. "
   ]
  },
  {
   "cell_type": "code",
   "execution_count": null,
   "metadata": {
    "collapsed": true
   },
   "outputs": [],
   "source": [
    "def image_processing_pipeline(undistorter, perspective_warper, sobel_thresholder, color_thresholder, img):\n",
    "    undist = undistorter.undistort_image(img)\n",
    "    warp_persp = perspective_warper.warp_perspective(undist)\n",
    "    \n",
    "    sobel_binary = sobel_thresholder.gray_combined_sobel_thresholds(warp_persp)\n",
    "    color_binary = color_thresholder.color_threshold(warp_persp)\n",
    "    \n",
    "    binary = np.zeros_like(color_binary)\n",
    "    binary[(sobel_binary == 1) | (color_binary == 1)] = 1\n",
    "    \n",
    "    return binary"
   ]
  },
  {
   "cell_type": "code",
   "execution_count": null,
   "metadata": {
    "collapsed": true
   },
   "outputs": [],
   "source": [
    "class LanesFinder:\n",
    "    def __init__(self):\n",
    "        pass\n",
    "    \n",
    "    def find_lanes(self, binary_warped, nb_window=15, margin=100, minpix=50):\n",
    "        out_img = np.dstack((binary_warped, binary_warped, binary_warped))*255\n",
    "        left_lane_inds, right_lane_inds = [], []\n",
    "        \n",
    "        # Set height of windows\n",
    "        window_height = np.int(binary_warped.shape[0]/nb_window)\n",
    "        # Identify the x and y positions of all nonzero pixels in the image\n",
    "        nonzero = binary_warped.nonzero()\n",
    "        nonzeroy = np.array(nonzero[0])\n",
    "        nonzerox = np.array(nonzero[1])\n",
    "        \n",
    "        leftx_current, rightx_current = None, None\n",
    "        \n",
    "        for idx, window in enumerate(range(nb_window)):\n",
    "            win_from = np.int((idx+1) * window_height)\n",
    "            histogram = np.sum(binary_warped[win_from:,:], axis=0)\n",
    "            \n",
    "            midpoint = np.int(histogram.shape[0]/2)\n",
    "            if leftx_current is None:\n",
    "                leftx_current = np.argmax(histogram[:midpoint])\n",
    "                \n",
    "            if rightx_current is None:\n",
    "                rightx_current = np.argmax(histogram[midpoint:]) + midpoint\n",
    "            \n",
    "            # Identify window boundaries in x and y (and right and left)\n",
    "            win_y_low = binary_warped.shape[0] - (window+1)*window_height\n",
    "            win_y_high = binary_warped.shape[0] - window*window_height\n",
    "            win_xleft_low = leftx_current - margin\n",
    "            win_xleft_high = leftx_current + margin\n",
    "            win_xright_low = rightx_current - margin\n",
    "            win_xright_high = rightx_current + margin\n",
    "            # Draw the windows on the visualization image\n",
    "            cv2.rectangle(out_img,(win_xleft_low, win_y_low),(win_xleft_high, win_y_high),(0,255,0), 2) \n",
    "            cv2.rectangle(out_img,(win_xright_low, win_y_low),(win_xright_high, win_y_high),(0,255,0), 2) \n",
    "            # Identify the nonzero pixels in x and y within the window\n",
    "            good_left_inds = ((nonzeroy >= win_y_low) & (nonzeroy < win_y_high) & (nonzerox >= win_xleft_low) & (nonzerox < win_xleft_high)).nonzero()[0]\n",
    "            good_right_inds = ((nonzeroy >= win_y_low) & (nonzeroy < win_y_high) & (nonzerox >= win_xright_low) & (nonzerox < win_xright_high)).nonzero()[0]\n",
    "            # Append these indices to the lists\n",
    "            left_lane_inds.append(good_left_inds)\n",
    "            right_lane_inds.append(good_right_inds)\n",
    "            # If you found > minpix pixels, recenter next window on their mean position\n",
    "            if len(good_left_inds) > minpix:\n",
    "                leftx_current = np.int(np.mean(nonzerox[good_left_inds]))\n",
    "            if len(good_right_inds) > minpix:        \n",
    "                rightx_current = np.int(np.mean(nonzerox[good_right_inds]))\n",
    "        \n",
    "        # Concatenate the arrays of indices\n",
    "        left_lane_inds = np.concatenate(left_lane_inds)\n",
    "        right_lane_inds = np.concatenate(right_lane_inds)\n",
    "\n",
    "        # Extract left and right line pixel positions\n",
    "        leftx = nonzerox[left_lane_inds]\n",
    "        lefty = nonzeroy[left_lane_inds] \n",
    "        rightx = nonzerox[right_lane_inds]\n",
    "        righty = nonzeroy[right_lane_inds] \n",
    "\n",
    "        # Fit a second order polynomial to each\n",
    "        if lefty.size == 0 or righty.size == 0:\n",
    "            return\n",
    "    \n",
    "        left_fit = np.polyfit(lefty, leftx, 2)\n",
    "        right_fit = np.polyfit(righty, rightx, 2)\n",
    "    \n",
    "        # Visualize the draw\n",
    "        # Generate x and y values for plotting\n",
    "        ploty = np.linspace(0, binary_warped.shape[0]-1, binary_warped.shape[0] )\n",
    "        left_fitx = left_fit[0]*ploty**2 + left_fit[1]*ploty + left_fit[2]\n",
    "        right_fitx = right_fit[0]*ploty**2 + right_fit[1]*ploty + right_fit[2]\n",
    "\n",
    "        out_img[nonzeroy[left_lane_inds], nonzerox[left_lane_inds]] = [255, 0, 0]\n",
    "        out_img[nonzeroy[right_lane_inds], nonzerox[right_lane_inds]] = [0, 0, 255]\n",
    "    \n",
    "        # return out_img, left_fitx, right_fitx\n",
    "    \n",
    "        plt.imshow(binary_warped)\n",
    "        plt.figure()\n",
    "    \n",
    "        plt.imshow(out_img)\n",
    "        plt.plot(left_fitx, ploty, color='yellow')\n",
    "        plt.plot(right_fitx, ploty, color='yellow')\n",
    "        plt.xlim(0, 1280)\n",
    "        plt.ylim(720, 0)\n",
    "        plt.figure()"
   ]
  },
  {
   "cell_type": "code",
   "execution_count": null,
   "metadata": {
    "collapsed": true
   },
   "outputs": [],
   "source": [
    "def find_lanes(binary_warped):\n",
    "    # Assuming you have created a warped binary image called \"binary_warped\"\n",
    "    # Take a histogram of the bottom half of the image\n",
    "    histogram = np.sum(binary_warped[int(binary_warped.shape[0]/2):,:], axis=0)\n",
    "    \n",
    "    # Create an output image to draw on and  visualize the result\n",
    "    out_img = np.dstack((binary_warped, binary_warped, binary_warped))*255\n",
    "    # Find the peak of the left and right halves of the histogram\n",
    "    # These will be the starting point for the left and right lines\n",
    "    midpoint = np.int(histogram.shape[0]/2)\n",
    "    leftx_base = np.argmax(histogram[:midpoint])\n",
    "    rightx_base = np.argmax(histogram[midpoint:]) + midpoint\n",
    "    \n",
    "    # Choose the number of sliding windows\n",
    "    nwindows = 18\n",
    "    # Set height of windows\n",
    "    window_height = np.int(binary_warped.shape[0]/nwindows)\n",
    "    # Identify the x and y positions of all nonzero pixels in the image\n",
    "    nonzero = binary_warped.nonzero()\n",
    "    nonzeroy = np.array(nonzero[0])\n",
    "    nonzerox = np.array(nonzero[1])\n",
    "    # Current positions to be updated for each window\n",
    "    leftx_current = leftx_base\n",
    "    rightx_current = rightx_base\n",
    "    # Set the width of the windows +/- margin\n",
    "    margin = 100\n",
    "    # Set minimum number of pixels found to recenter window\n",
    "    minpix = 50\n",
    "    # Create empty lists to receive left and right lane pixel indices\n",
    "    left_lane_inds = []\n",
    "    right_lane_inds = []\n",
    "\n",
    "    # Step through the windows one by one\n",
    "    for window in range(nwindows):\n",
    "        # Identify window boundaries in x and y (and right and left)\n",
    "        win_y_low = binary_warped.shape[0] - (window+1)*window_height\n",
    "        win_y_high = binary_warped.shape[0] - window*window_height\n",
    "        win_xleft_low = leftx_current - margin\n",
    "        win_xleft_high = leftx_current + margin\n",
    "        win_xright_low = rightx_current - margin\n",
    "        win_xright_high = rightx_current + margin\n",
    "        # Draw the windows on the visualization image\n",
    "        cv2.rectangle(out_img,(win_xleft_low, win_y_low),(win_xleft_high, win_y_high),(0,255,0), 2) \n",
    "        cv2.rectangle(out_img,(win_xright_low, win_y_low),(win_xright_high, win_y_high),(0,255,0), 2) \n",
    "        # Identify the nonzero pixels in x and y within the window\n",
    "        good_left_inds = ((nonzeroy >= win_y_low) & (nonzeroy < win_y_high) & (nonzerox >= win_xleft_low) & (nonzerox < win_xleft_high)).nonzero()[0]\n",
    "        good_right_inds = ((nonzeroy >= win_y_low) & (nonzeroy < win_y_high) & (nonzerox >= win_xright_low) & (nonzerox < win_xright_high)).nonzero()[0]\n",
    "        # Append these indices to the lists\n",
    "        left_lane_inds.append(good_left_inds)\n",
    "        right_lane_inds.append(good_right_inds)\n",
    "        # If you found > minpix pixels, recenter next window on their mean position\n",
    "        if len(good_left_inds) > minpix:\n",
    "            leftx_current = np.int(np.mean(nonzerox[good_left_inds]))\n",
    "        if len(good_right_inds) > minpix:        \n",
    "            rightx_current = np.int(np.mean(nonzerox[good_right_inds]))\n",
    "\n",
    "    # Concatenate the arrays of indices\n",
    "    left_lane_inds = np.concatenate(left_lane_inds)\n",
    "    right_lane_inds = np.concatenate(right_lane_inds)\n",
    "\n",
    "    # Extract left and right line pixel positions\n",
    "    leftx = nonzerox[left_lane_inds]\n",
    "    lefty = nonzeroy[left_lane_inds] \n",
    "    rightx = nonzerox[right_lane_inds]\n",
    "    righty = nonzeroy[right_lane_inds] \n",
    "\n",
    "    # Fit a second order polynomial to each\n",
    "    if lefty.size == 0 or righty.size == 0:\n",
    "        return\n",
    "    \n",
    "    left_fit = np.polyfit(lefty, leftx, 2)\n",
    "    right_fit = np.polyfit(righty, rightx, 2)\n",
    "    \n",
    "    # Visualize the draw\n",
    "    # Generate x and y values for plotting\n",
    "    ploty = np.linspace(0, binary_warped.shape[0]-1, binary_warped.shape[0] )\n",
    "    left_fitx = left_fit[0]*ploty**2 + left_fit[1]*ploty + left_fit[2]\n",
    "    right_fitx = right_fit[0]*ploty**2 + right_fit[1]*ploty + right_fit[2]\n",
    "\n",
    "    out_img[nonzeroy[left_lane_inds], nonzerox[left_lane_inds]] = [255, 0, 0]\n",
    "    out_img[nonzeroy[right_lane_inds], nonzerox[right_lane_inds]] = [0, 0, 255]\n",
    "    \n",
    "    # return out_img, left_fitx, right_fitx\n",
    "    \n",
    "    plt.imshow(binary_warped)\n",
    "    plt.figure()\n",
    "    \n",
    "    plt.imshow(out_img)\n",
    "    plt.plot(left_fitx, ploty, color='yellow')\n",
    "    plt.plot(right_fitx, ploty, color='yellow')\n",
    "    plt.xlim(0, 1280)\n",
    "    plt.ylim(720, 0)\n",
    "    plt.figure()"
   ]
  },
  {
   "cell_type": "code",
   "execution_count": null,
   "metadata": {
    "collapsed": true
   },
   "outputs": [],
   "source": [
    "def find_lanes1(warped):\n",
    "    window_width = 50 \n",
    "    window_height = 80 # Break image into 9 vertical layers since image height is 720\n",
    "    margin = 50 # How much to slide left and right for searching\n",
    "\n",
    "    def window_mask(width, height, img_ref, center,level):\n",
    "        output = np.zeros_like(img_ref)\n",
    "        output[int(img_ref.shape[0]-(level+1)*height):int(img_ref.shape[0]-level*height),max(0,int(center-width/2)):min(int(center+width/2),img_ref.shape[1])] = 1\n",
    "        return output\n",
    "\n",
    "    def find_window_centroids(image, window_width, window_height, margin):\n",
    "    \n",
    "        window_centroids = [] # Store the (left,right) window centroid positions per level\n",
    "        window = np.ones(window_width) # Create our window template that we will use for convolutions\n",
    "    \n",
    "        # First find the two starting positions for the left and right lane by using np.sum to get the vertical image slice\n",
    "        # and then np.convolve the vertical image slice with the window template \n",
    "    \n",
    "        # Sum quarter bottom of image to get slice, could use a different ratio\n",
    "        l_sum = np.sum(warped[int(3*warped.shape[0]/4):,:int(warped.shape[1]/2)], axis=0)\n",
    "        l_center = np.argmax(np.convolve(window,l_sum))-window_width/2\n",
    "        r_sum = np.sum(warped[int(3*warped.shape[0]/4):,int(warped.shape[1]/2):], axis=0)\n",
    "        r_center = np.argmax(np.convolve(window,r_sum))-window_width/2+int(warped.shape[1]/2)\n",
    "    \n",
    "        # Add what we found for the first layer\n",
    "        window_centroids.append((l_center,r_center))\n",
    "    \n",
    "        # Go through each layer looking for max pixel locations\n",
    "        for level in range(1,(int)(warped.shape[0]/window_height)):\n",
    "            # convolve the window into the vertical slice of the image\n",
    "            image_layer = np.sum(warped[int(warped.shape[0]-(level+1)*window_height):int(warped.shape[0]-level*window_height),:], axis=0)\n",
    "            conv_signal = np.convolve(window, image_layer)\n",
    "            # Find the best left centroid by using past left center as a reference\n",
    "            # Use window_width/2 as offset because convolution signal reference is at right side of window, not center of window\n",
    "            offset = window_width/2\n",
    "            l_min_index = int(max(l_center+offset-margin,0))\n",
    "            l_max_index = int(min(l_center+offset+margin,warped.shape[1]))\n",
    "            l_center = np.argmax(conv_signal[l_min_index:l_max_index])+l_min_index-offset\n",
    "            # Find the best right centroid by using past right center as a reference\n",
    "            r_min_index = int(max(r_center+offset-margin,0))\n",
    "            r_max_index = int(min(r_center+offset+margin,warped.shape[1]))\n",
    "            r_center = np.argmax(conv_signal[r_min_index:r_max_index])+r_min_index-offset\n",
    "            # Add what we found for that layer\n",
    "            window_centroids.append((l_center,r_center))\n",
    "\n",
    "        return window_centroids\n",
    "\n",
    "    window_centroids = find_window_centroids(warped, window_width, window_height, margin)\n",
    "\n",
    "    # If we found any window centers\n",
    "    if len(window_centroids) > 0:\n",
    "\n",
    "        # Points used to draw all the left and right windows\n",
    "        l_points = np.zeros_like(warped)\n",
    "        r_points = np.zeros_like(warped)\n",
    "\n",
    "        # Go through each level and draw the windows \t\n",
    "        for level in range(0,len(window_centroids)):\n",
    "            # Window_mask is a function to draw window areas\n",
    "            l_mask = window_mask(window_width,window_height,warped,window_centroids[level][0],level)\n",
    "            r_mask = window_mask(window_width,window_height,warped,window_centroids[level][1],level)\n",
    "            # Add graphic points from window mask here to total pixels found \n",
    "            l_points[(l_points == 255) | ((l_mask == 1) ) ] = 255\n",
    "            r_points[(r_points == 255) | ((r_mask == 1) ) ] = 255\n",
    "\n",
    "        # Draw the results\n",
    "        template = np.array(r_points+l_points,np.uint8) # add both left and right window pixels together\n",
    "        zero_channel = np.zeros_like(template) # create a zero color channel\n",
    "        template = np.array(cv2.merge((zero_channel,template,zero_channel)),np.uint8) # make window pixels green\n",
    "        warpage = np.array(cv2.merge((warped,warped,warped)),np.uint8) # making the original road pixels 3 color channels\n",
    "        output = cv2.addWeighted(warpage, 1, template, 0.5, 0.0) # overlay the orignal road image with window results\n",
    " \n",
    "    # If no window centers found, just display orginal road image\n",
    "    else:\n",
    "        output = np.array(cv2.merge((warped,warped,warped)),np.uint8)\n",
    "        \n",
    "    plt.imshow(output)\n",
    "    plt.title('window fitting results')\n",
    "    plt.show()    \n",
    "    \n",
    "    return output"
   ]
  },
  {
   "cell_type": "code",
   "execution_count": null,
   "metadata": {
    "scrolled": false
   },
   "outputs": [],
   "source": [
    "lanes_finder = LanesFinder()\n",
    "\n",
    "for fn in _build_full_paths('test_images/'):\n",
    "    img = mpimg.imread(fn)\n",
    "    \n",
    "    plt.imshow(img)\n",
    "    plt.figure()\n",
    "    \n",
    "    binary = image_processing_pipeline(undistorter, persp_warper, sobel_thresholder, color_thresholder, img)\n",
    "    \n",
    "    if binary is None:\n",
    "        continue\n",
    "    \n",
    "    # find_lanes(binary)\n",
    "    lanes_finder.find_lanes(binary)"
   ]
  },
  {
   "cell_type": "code",
   "execution_count": null,
   "metadata": {
    "scrolled": true
   },
   "outputs": [],
   "source": [
    "def apply_combined_thresholds(img):\n",
    "    undist = undistort_image(mtx, dist, img)\n",
    "    gray = cv2.cvtColor(undist, cv2.COLOR_RGB2GRAY)\n",
    "    return combined_thresholds(gray)\n",
    "\n",
    "for fn in _build_full_paths(\"test_images/\"):\n",
    "    img = mpimg.imread(fn)\n",
    "    thres_img = apply_combined_thresholds(img)\n",
    "    plt.imshow(thres_img, cmap='gray')\n",
    "    plt.figure()\n",
    " "
   ]
  },
  {
   "cell_type": "code",
   "execution_count": null,
   "metadata": {
    "collapsed": true
   },
   "outputs": [],
   "source": []
  }
 ],
 "metadata": {
  "kernelspec": {
   "display_name": "Python 3",
   "language": "python",
   "name": "python3"
  },
  "language_info": {
   "codemirror_mode": {
    "name": "ipython",
    "version": 3
   },
   "file_extension": ".py",
   "mimetype": "text/x-python",
   "name": "python",
   "nbconvert_exporter": "python",
   "pygments_lexer": "ipython3",
   "version": "3.5.2"
  }
 },
 "nbformat": 4,
 "nbformat_minor": 2
}
