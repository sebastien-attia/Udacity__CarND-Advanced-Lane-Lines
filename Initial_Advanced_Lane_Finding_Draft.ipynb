{
 "cells": [
  {
   "cell_type": "markdown",
   "metadata": {},
   "source": [
    "# Advanced Lane Finding Project \n",
    "\n",
    "__The goals / steps of this project are the following:__ \n",
    "\n",
    "\n",
    "1- Compute the camera calibration matrix and distortion coefﬁcients given a set of chessboard images.  \n",
    "2- Apply a distortion correction to raw images.  \n",
    "3- Use gradients and color transforms to create a thresholded binary image.  \n",
    "4- Apply a perspective transform to rectify binary image (\"birds-eye view\").  \n",
    "5- Detect lane pixels and ﬁt to ﬁnd the lane boundary.  \n",
    "6- Determine the curvature of the lane and vehicle position with respect to center.  \n",
    "7- Warp the detected lane boundaries back onto the original image.  \n",
    "8- Output visual display of the lane boundaries and numerical estimation of lane curvature and vehicle position.  \n"
   ]
  },
  {
   "cell_type": "code",
   "execution_count": null,
   "metadata": {
    "collapsed": true
   },
   "outputs": [],
   "source": [
    "# importing some useful packages\n",
    "import os\n",
    "import matplotlib.pyplot as plt\n",
    "import matplotlib.image as mpimg\n",
    "import numpy as np\n",
    "import cv2\n",
    "\n",
    "from ipywidgets import widgets\n",
    "from ipywidgets import interact, interactive, fixed, interact_manual\n",
    "\n",
    "%matplotlib inline"
   ]
  },
  {
   "cell_type": "markdown",
   "metadata": {},
   "source": [
    "## 1. Calibration of the camera"
   ]
  },
  {
   "cell_type": "code",
   "execution_count": null,
   "metadata": {
    "scrolled": true
   },
   "outputs": [],
   "source": [
    "def _build_full_paths(dir_root):\n",
    "    return [dir_root+'/'+fn for fn in os.listdir(dir_root)]\n",
    "\n",
    "# The process to calibrate the camera is split into 2 phases:\n",
    "# - first find the corners of several images with different angles of a chessboards,\n",
    "# - second, calibrate the camera and \n",
    "class CameraCalibrator:\n",
    "    def __init__(self, nx=9, ny=6):\n",
    "        self.nx = nx\n",
    "        self.ny = ny\n",
    "        self.mtx = None\n",
    "        self.dist = None\n",
    "        \n",
    "    def _find_corners(self, filenames, show_images=False):\n",
    "        objpoints, imgpoints = [], [] # 3d points in real world space, # 2d points in image plane.\n",
    "    \n",
    "        # Prepare obj points\n",
    "        objp = np.zeros((self.nx * self.ny, 3), np.float32)\n",
    "        objp[:,:2] = np.mgrid[0:self.nx, 0:self.ny].T.reshape(-1,2)\n",
    "        \n",
    "        img_size = None\n",
    "    \n",
    "        for fn in filenames:\n",
    "            #reading in an image\n",
    "            image = mpimg.imread(fn)\n",
    "            gray = cv2.cvtColor(image,cv2.COLOR_RGB2GRAY)\n",
    "\n",
    "            ret, corners = cv2.findChessboardCorners(gray, (self.nx,self.ny), None)\n",
    "        \n",
    "            if img_size is None:\n",
    "                img_size = (image.shape[1], image.shape[0])\n",
    "        \n",
    "            if ret == True:\n",
    "                objpoints.append(objp)\n",
    "                imgpoints.append(corners)\n",
    "                \n",
    "                if show_images:\n",
    "                    image = cv2.drawChessboardCorners(image, (self.nx, self.ny), corners, ret)\n",
    "                    plt.imshow(image)\n",
    "                    plt.figure()\n",
    "    \n",
    "        return objpoints, imgpoints, img_size\n",
    "    \n",
    "    def _calibrate_camera(self, objpoints, imgpoints, img_size):\n",
    "        ret, mtx, dist, rvecs, tvecs = cv2.calibrateCamera(objpoints, imgpoints, img_size, None, None)\n",
    "        return mtx, dist\n",
    "    \n",
    "    def calibrate(self, filenames):\n",
    "        objpoints, imgpoints, img_size = self._find_corners( filenames, show_images=True )\n",
    "        self.mtx, self.dist = self._calibrate_camera(objpoints, imgpoints, img_size)\n",
    "        return self.mtx, self.dist\n",
    "       \n",
    "        \n",
    "ccal1 = CameraCalibrator()\n",
    "ccal1.calibrate( _build_full_paths('camera_cal/') );\n"
   ]
  },
  {
   "cell_type": "markdown",
   "metadata": {},
   "source": [
    "## 2.  Apply a distortion correction to raw images."
   ]
  },
  {
   "cell_type": "markdown",
   "metadata": {},
   "source": [
    "### a. Compute undistort image"
   ]
  },
  {
   "cell_type": "code",
   "execution_count": null,
   "metadata": {
    "collapsed": true
   },
   "outputs": [],
   "source": [
    "def _show_dist_undist_images_by_2(images, title0='Original Image', title1='Undistorted Image'):\n",
    "    for img, dst in images:\n",
    "        f, (ax1, ax2) = plt.subplots(1, 2, figsize=(20,10))\n",
    "        ax1.imshow(img, cmap='gray')\n",
    "        ax1.set_title(title0, fontsize=30)\n",
    "        ax2.imshow(dst, cmap='gray')\n",
    "        ax2.set_title(title1, fontsize=30)\n",
    "\n",
    "class Undistorter:\n",
    "    def __init__(self, camera_calibrator):\n",
    "        self.camera_calibrator = camera_calibrator\n",
    "        \n",
    "    def undistort_image(self, img):\n",
    "        mtx, dist = self.camera_calibrator.mtx, self.camera_calibrator.dist\n",
    "        return cv2.undistort(img, mtx, dist, None, mtx)\n",
    "        \n",
    "    def read_undistort_images(self, filenames):\n",
    "        undistorted_imgs = []\n",
    "    \n",
    "        for fn in filenames:\n",
    "            img = mpimg.imread(fn)\n",
    "        \n",
    "            undst = self.undistort_image(img)\n",
    "            undistorted_imgs.append( (img, undst, ) )\n",
    "        \n",
    "        return undistorted_imgs\n",
    "        \n",
    "undistorter = Undistorter(ccal1)\n"
   ]
  },
  {
   "cell_type": "code",
   "execution_count": null,
   "metadata": {
    "scrolled": true
   },
   "outputs": [],
   "source": [
    "_show_dist_undist_images_by_2( undistorter.read_undistort_images([ 'camera_cal/calibration1.jpg' ]) )"
   ]
  },
  {
   "cell_type": "markdown",
   "metadata": {},
   "source": [
    "### b. Compute perspective matrix"
   ]
  },
  {
   "cell_type": "code",
   "execution_count": null,
   "metadata": {
    "collapsed": true
   },
   "outputs": [],
   "source": [
    "class PerspectiveWarper:\n",
    "    def __init__(self):\n",
    "        self.M = None\n",
    "        self.Minv = None\n",
    "        \n",
    "    def _perspective(self, matrix, img):  \n",
    "        if matrix is None:\n",
    "            raise ValueError(\"!!! The matrix M must be computed by method compute_perspective_transform() before calling warp_perspective()\")\n",
    "            \n",
    "        img_size = (img.shape[1], img.shape[0])\n",
    "        return cv2.warpPerspective(img, matrix, img_size)\n",
    "    \n",
    "    def compute_perspective_transform(self, src, dst):\n",
    "        self.M = cv2.getPerspectiveTransform(src, dst)\n",
    "        self.Minv = cv2.getPerspectiveTransform(dst, src)\n",
    "    \n",
    "    def warp_perspective(self, img):\n",
    "        return self._perspective(self.M, img)\n",
    "    \n",
    "    def unwarp_perspective(self, img):\n",
    "        return self._perspective(self.Minv, img)\n",
    "    \n"
   ]
  },
  {
   "cell_type": "markdown",
   "metadata": {},
   "source": [
    "#### Perspective warper applied to chessboards"
   ]
  },
  {
   "cell_type": "code",
   "execution_count": null,
   "metadata": {
    "scrolled": true
   },
   "outputs": [],
   "source": [
    "chess_persp_warper = PerspectiveWarper()\n",
    "\n",
    "def chessboard_perspective_warper(perspective_warper, img, offset = 100, nx=9, ny=6, draw_corners=True):\n",
    "    undist = undistorter.undistort_image(img)\n",
    "    # Convert undistorted image to grayscale\n",
    "    gray = cv2.cvtColor(undist, cv2.COLOR_RGB2GRAY)\n",
    "    # Search for corners in the grayscaled image\n",
    "    ret, corners = cv2.findChessboardCorners(gray, (nx, ny), None)\n",
    "    \n",
    "    if ret == True:\n",
    "        if draw_corners:\n",
    "            cv2.drawChessboardCorners(undist, (nx, ny), corners, ret)\n",
    "            \n",
    "        img_size = (gray.shape[1], gray.shape[0])\n",
    "        \n",
    "        src = np.float32([corners[0], corners[nx-1], corners[-1], corners[-nx]])\n",
    "        dst = np.float32([[offset, offset], [img_size[0]-offset, offset], \n",
    "                            [img_size[0]-offset, img_size[1]-offset], [offset, img_size[1]-offset]])\n",
    "    \n",
    "        perspective_warper.compute_perspective_transform(src, dst)\n",
    "        return perspective_warper.warp_perspective(undist)\n",
    "    \n",
    "    return None\n",
    "    \n",
    "def read_perspective_warper_chess_images(perspective_warper, filenames):\n",
    "    result = []\n",
    "    for fn in filenames:\n",
    "        img = mpimg.imread(fn)\n",
    "        warped = chessboard_perspective_warper(perspective_warper, img)\n",
    "        \n",
    "        if warped is None:\n",
    "            continue\n",
    "        result.append( (img, warped,) )\n",
    "        \n",
    "    return result\n",
    "\n",
    "_show_dist_undist_images_by_2( read_perspective_warper_chess_images(chess_persp_warper, _build_full_paths('camera_cal/')), title1='Warped Image' )"
   ]
  },
  {
   "cell_type": "markdown",
   "metadata": {},
   "source": [
    "#### Perspective warper applied to road images"
   ]
  },
  {
   "cell_type": "code",
   "execution_count": null,
   "metadata": {
    "scrolled": true
   },
   "outputs": [],
   "source": [
    "persp_warper = PerspectiveWarper()\n",
    "\n",
    "# Compute the perspective matrix for the road:\n",
    "def compute_road_perspective_matrix(perspective_warper):\n",
    "    # src = np.float32([[535, 460], [750, 460], [1480, 720], [-180, 720]])\n",
    "    src = np.float32([[535, 460], [750, 460], [1480, 720], [-180, 720]])\n",
    "    dst = np.float32([[0, 0], [1280, 0], [1280, 720], [0, 720]])\n",
    "    \n",
    "    perspective_warper.compute_perspective_transform(src, dst)\n",
    "\n",
    "compute_road_perspective_matrix(persp_warper)\n",
    "    \n",
    "def read_perspective_warper_road_images(warp_perspective_fct, filenames):\n",
    "    result = []\n",
    "    for fn in filenames:\n",
    "        img = mpimg.imread(fn)\n",
    "        undist = undistorter.undistort_image(img)\n",
    "        warped = warp_perspective_fct(undist)\n",
    "        \n",
    "        if warped is None:\n",
    "            continue\n",
    "        \n",
    "        result.append( (img, warped,) )\n",
    "        \n",
    "    return result\n",
    "\n",
    "_show_dist_undist_images_by_2( read_perspective_warper_road_images(persp_warper.warp_perspective, _build_full_paths('test_images/')), title1='Warped Image' )"
   ]
  },
  {
   "cell_type": "code",
   "execution_count": null,
   "metadata": {
    "scrolled": false
   },
   "outputs": [],
   "source": [
    "img = mpimg.imread('test_images/straight_lines1.jpg')\n",
    "undist = undistorter.undistort_image(img)\n",
    "\n",
    "def find_perspective_matrix(xt1,xt2,yt,xl1,xl2,yl):\n",
    "    # src = np.float32([[535, 460], [750, 460], [1480, 720], [-180, 720]])\n",
    "    src = np.float32([[xt1, yt], [xt2, yt], [xl2, yl], [xl1, yl]])\n",
    "    dst = np.float32([[0, 0], [1280, 0], [1280, 720], [0, 720]])\n",
    "    persp_warper.compute_perspective_transform(src, dst)\n",
    "    \n",
    "    warped = persp_warper.warp_perspective(undist)\n",
    "    \n",
    "    _show_dist_undist_images_by_2([(img, warped)])\n",
    "    plt.show()\n",
    "    \n",
    "interact(find_perspective_matrix, \n",
    "            xt1=widgets.IntSlider(min=0,max=650,step=1,value=535),\n",
    "            xt2=widgets.IntSlider(min=630,max=1280,step=1,value=750),\n",
    "            yt=widgets.IntSlider(min=360,max=720,step=1,value=460),\n",
    "            xl1=widgets.IntSlider(min=-300,max=650,step=1,value=-180),\n",
    "            xl2=widgets.IntSlider(min=600,max=1550,step=1,value=1480),\n",
    "            yl=widgets.IntSlider(min=360,max=800,step=1,value=720),\n",
    "        )"
   ]
  },
  {
   "cell_type": "markdown",
   "metadata": {
    "collapsed": true
   },
   "source": [
    "## 3. Use gradients and color transforms to create a thresholded binary image."
   ]
  },
  {
   "cell_type": "code",
   "execution_count": null,
   "metadata": {
    "collapsed": true
   },
   "outputs": [],
   "source": [
    "class ImageSobelThresholder:\n",
    "    def __init__(self, sobel_kernel=9, abs_thresh=(20,100), mag_thresh=(30, 100), dir_thresh=(0.7, 1.3)):\n",
    "        self.sobel_kernel = sobel_kernel\n",
    "        \n",
    "        # Absolute sobelthreshold\n",
    "        self.abs_thresh = abs_thresh\n",
    "        self.mag_thresh = mag_thresh\n",
    "        self.dir_thresh = dir_thresh\n",
    "        \n",
    "    def abs_sobel_threshold(self, gray, orient='x'):\n",
    "        # Take the derivative in x or y given orient = 'x' or 'y'\n",
    "        if orient == 'x':\n",
    "            sobel = cv2.Sobel(gray, cv2.CV_64F, 1, 0, ksize=self.sobel_kernel)\n",
    "        elif orient == 'y':\n",
    "            sobel = cv2.Sobel(gray, cv2.CV_64F, 0, 1, ksize=self.sobel_kernel)\n",
    "    \n",
    "        # Take the absolute value of the derivative or gradient\n",
    "        abs_sobel = np.absolute(sobel)\n",
    "    \n",
    "        # Scale to 8-bit (0 - 255) then convert to type = np.uint8\n",
    "        scaled_sobel = np.uint8(255*abs_sobel/np.max(abs_sobel))\n",
    "    \n",
    "        # Create a mask of 1's where the scaled gradient magnitude is > thresh_min and < thresh_max\n",
    "        binary_output = np.zeros_like(scaled_sobel)\n",
    "        binary_output[(scaled_sobel >= self.abs_thresh[0]) & (scaled_sobel <= self.abs_thresh[1])] = 1\n",
    "\n",
    "        # Return this mask as your binary_output image\n",
    "        return binary_output\n",
    "    \n",
    "    \n",
    "    def mag_sobel_threshold(self, gray):\n",
    "        # Take both Sobel x and y gradients\n",
    "        sobelx = cv2.Sobel(gray, cv2.CV_64F, 1, 0, ksize=self.sobel_kernel)\n",
    "        sobely = cv2.Sobel(gray, cv2.CV_64F, 0, 1, ksize=self.sobel_kernel)\n",
    "        # Calculate the gradient magnitude\n",
    "        gradmag = np.sqrt(sobelx**2 + sobely**2)\n",
    "        # Rescale to 8 bit\n",
    "        scale_factor = np.max(gradmag)/255. \n",
    "        gradmag = (gradmag/scale_factor).astype(np.uint8) \n",
    "        # Create a binary image of ones where threshold is met, zeros otherwise\n",
    "        binary_output = np.zeros_like(gradmag)\n",
    "        binary_output[(gradmag >= self. mag_thresh[0]) & (gradmag <= self.mag_thresh[1])] = 1\n",
    "\n",
    "        # Return the binary image\n",
    "        return binary_output\n",
    "    \n",
    "    \n",
    "    def dir_sobel_threshold(self, gray):\n",
    "        # Calculate the x and y gradients\n",
    "        sobelx = cv2.Sobel(gray, cv2.CV_64F, 1, 0, ksize=self.sobel_kernel)\n",
    "        sobely = cv2.Sobel(gray, cv2.CV_64F, 0, 1, ksize=self.sobel_kernel)\n",
    "        # Take the absolute value of the gradient direction, \n",
    "        # apply a threshold, and create a binary image result\n",
    "        absgraddir = np.arctan2(np.absolute(sobely), np.absolute(sobelx))\n",
    "        binary_output =  np.zeros_like(absgraddir)\n",
    "        binary_output[(absgraddir >= self.dir_thresh[0]) & (absgraddir <= self.dir_thresh[1])] = 1\n",
    "\n",
    "        # Return the binary image\n",
    "        return binary_output\n",
    "    \n",
    "    \n",
    "    def combined_sobel_thresholds(self, gray):\n",
    "        # Apply each of the thresholding functions\n",
    "        gradx = self.abs_sobel_threshold(gray, orient='x')\n",
    "        grady = self.abs_sobel_threshold(gray, orient='y')\n",
    "        mag_binary = self.mag_sobel_threshold(gray)\n",
    "        dir_binary = self.dir_sobel_threshold(gray)\n",
    "    \n",
    "        combined = np.zeros_like(dir_binary)\n",
    "        combined[((gradx == 1) & (grady == 1)) | ((mag_binary == 1) & (dir_binary == 1))] = 1\n",
    "        return combined\n",
    "    \n",
    "    def gray_combined_sobel_thresholds(self, undist):\n",
    "        gray = cv2.cvtColor(undist, cv2.COLOR_RGB2GRAY)\n",
    "        return self.combined_sobel_thresholds(gray)"
   ]
  },
  {
   "cell_type": "code",
   "execution_count": null,
   "metadata": {
    "collapsed": true
   },
   "outputs": [],
   "source": [
    "def apply_thresholds(undist, threshold_fct, cvt_2_gray=True):\n",
    "    if cvt_2_gray:\n",
    "        gray = cv2.cvtColor(undist, cv2.COLOR_RGB2GRAY)\n",
    "        return threshold_fct(gray)\n",
    "    else:\n",
    "        return threshold_fct(undist)\n",
    "\n",
    "def show_thresholded_binary_images(undistorter, threshold_fct, cvt_2_gray=True):\n",
    "    result = []\n",
    "    for fn in _build_full_paths(\"test_images/\"):\n",
    "        img = mpimg.imread(fn)\n",
    "        undist = undistorter.undistort_image(img)\n",
    "        \n",
    "        # undist = persp_warper.warp_perspective(undist)\n",
    "        \n",
    "        thres_img = apply_thresholds(undist, threshold_fct, cvt_2_gray)\n",
    "        result.append( (img, thres_img,) )\n",
    "        \n",
    "    return result\n",
    "\n",
    "sobel_thresholder = ImageSobelThresholder()"
   ]
  },
  {
   "cell_type": "markdown",
   "metadata": {},
   "source": [
    "### a. Apply Gradients"
   ]
  },
  {
   "cell_type": "markdown",
   "metadata": {},
   "source": [
    "#### Sobel"
   ]
  },
  {
   "cell_type": "code",
   "execution_count": null,
   "metadata": {
    "scrolled": false
   },
   "outputs": [],
   "source": [
    "_show_dist_undist_images_by_2( show_thresholded_binary_images(undistorter, sobel_thresholder.abs_sobel_threshold), title1='Sobel Binary Image' )"
   ]
  },
  {
   "cell_type": "markdown",
   "metadata": {},
   "source": [
    "#### Gradient Magnitude"
   ]
  },
  {
   "cell_type": "code",
   "execution_count": null,
   "metadata": {
    "scrolled": false
   },
   "outputs": [],
   "source": [
    "_show_dist_undist_images_by_2( show_thresholded_binary_images(undistorter, sobel_thresholder.mag_sobel_threshold), title1='Gradient Magnitude Image' )\n"
   ]
  },
  {
   "cell_type": "markdown",
   "metadata": {},
   "source": [
    "#### Gradient direction"
   ]
  },
  {
   "cell_type": "code",
   "execution_count": null,
   "metadata": {
    "scrolled": true
   },
   "outputs": [],
   "source": [
    "_show_dist_undist_images_by_2( show_thresholded_binary_images(undistorter, sobel_thresholder.dir_sobel_threshold), title1='Gradient Direction Binary Image' )"
   ]
  },
  {
   "cell_type": "markdown",
   "metadata": {},
   "source": [
    "#### Combined gradient thresholds"
   ]
  },
  {
   "cell_type": "code",
   "execution_count": null,
   "metadata": {
    "scrolled": true
   },
   "outputs": [],
   "source": [
    "_show_dist_undist_images_by_2( show_thresholded_binary_images(undistorter, sobel_thresholder.combined_sobel_thresholds), title1='Combined Thresholded Binary Image' )\n"
   ]
  },
  {
   "cell_type": "code",
   "execution_count": null,
   "metadata": {},
   "outputs": [],
   "source": [
    "img = mpimg.imread('test_images/test1.jpg')\n",
    "undist = undistorter.undistort_image(img)\n",
    "undist = persp_warper.warp_perspective(undist)\n",
    "gray = cv2.cvtColor(undist, cv2.COLOR_RGB2GRAY)\n",
    "\n",
    "def find_gradient_thresholds(sobel_kernel, abs_thresh_low, abs_thresh_high, mag_thresh_low, mag_thresh_high, dir_thresh_low, dir_thresh_high):\n",
    "    sobel_kernel = int(sobel_kernel)\n",
    "    sobel_thresholder = ImageSobelThresholder(sobel_kernel=sobel_kernel, abs_thresh=(abs_thresh_low,abs_thresh_high), mag_thresh=(mag_thresh_low, mag_thresh_high), dir_thresh=(dir_thresh_low, dir_thresh_high))\n",
    "    binary = sobel_thresholder.combined_sobel_thresholds(gray)\n",
    "    \n",
    "    _show_dist_undist_images_by_2([(img, binary)])\n",
    "    plt.show()\n",
    "    \n",
    "interact(find_gradient_thresholds, \n",
    "            sobel_kernel=widgets.Dropdown(options=['3', '5', '7', '9', '13', '15', '17', '21', '23', '25', '27'], value='9'),\n",
    "            abs_thresh_low=widgets.IntSlider(min=0,max=255,step=1,value=25),\n",
    "            abs_thresh_high=widgets.IntSlider(min=0,max=255,step=1,value=100),\n",
    "            mag_thresh_low=widgets.IntSlider(min=0,max=255,step=1,value=30),\n",
    "            mag_thresh_high=widgets.IntSlider(min=0,max=255,step=1,value=100),\n",
    "            dir_thresh_low=widgets.FloatSlider(min=0,max=3.2,step=0.05,value=1.6),\n",
    "            dir_thresh_high=widgets.FloatSlider(min=0,max=3.2,step=0.05,value=3.2),\n",
    "        )"
   ]
  },
  {
   "cell_type": "markdown",
   "metadata": {},
   "source": [
    "### b. Apply Color Transforms"
   ]
  },
  {
   "cell_type": "markdown",
   "metadata": {},
   "source": [
    "#### Color Threshold"
   ]
  },
  {
   "cell_type": "code",
   "execution_count": null,
   "metadata": {
    "collapsed": true
   },
   "outputs": [],
   "source": [
    "class ImageColorThresholder:\n",
    "    def __init__(self, ch_thresh=( ('H', (15, 100)), ('S', (90, 255)) ) ):\n",
    "        self.ch_thresh = ch_thresh\n",
    "        \n",
    "    @staticmethod\n",
    "    def color_threshold(img, channel='S', thresh=(90, 255)):\n",
    "        ch_map = {\n",
    "            'H': 0,\n",
    "            'L': 1,\n",
    "            'S': 2\n",
    "        }\n",
    "        hls = cv2.cvtColor(img, cv2.COLOR_RGB2HLS)\n",
    "        channel = hls[:,:,ch_map[channel]]\n",
    "        \n",
    "        binary = np.zeros_like(channel)\n",
    "        binary[(channel > thresh[0]) & (channel <= thresh[1])] = 1\n",
    "        return binary\n",
    "    \n",
    "    def combined_color_thresholds(self, img):\n",
    "        prev_binary = None\n",
    "        for ch, thresh in self.ch_thresh:\n",
    "            binary = self.color_threshold(img, ch, thresh)\n",
    "            if prev_binary is not None:\n",
    "                binary = binary | prev_binary\n",
    "            \n",
    "            prev_binary = binary\n",
    "    \n",
    "        img_size = (img.shape[1], img.shape[0])\n",
    "        result = np.zeros_like(img_size)\n",
    "        result[binary] = 1\n",
    "        return binary\n",
    "    \n",
    "color_thresholder = ImageColorThresholder()"
   ]
  },
  {
   "cell_type": "code",
   "execution_count": null,
   "metadata": {
    "scrolled": true
   },
   "outputs": [],
   "source": [
    "_show_dist_undist_images_by_2( show_thresholded_binary_images(undistorter, ImageColorThresholder.color_threshold, cvt_2_gray=False), title1='Color Transform' )\n"
   ]
  },
  {
   "cell_type": "code",
   "execution_count": null,
   "metadata": {
    "scrolled": true
   },
   "outputs": [],
   "source": [
    "def test_L_color_thresholding(img):\n",
    "    return ImageColorThresholder.color_threshold(img, channel='S', thresh=(90, 255))\n",
    "\n",
    "_show_dist_undist_images_by_2( show_thresholded_binary_images(undistorter, test_L_color_thresholding, cvt_2_gray=False), title1='Color Transform' )\n"
   ]
  },
  {
   "cell_type": "markdown",
   "metadata": {},
   "source": [
    "#### Combined Color Threshold"
   ]
  },
  {
   "cell_type": "code",
   "execution_count": null,
   "metadata": {
    "scrolled": true
   },
   "outputs": [],
   "source": [
    "_show_dist_undist_images_by_2( show_thresholded_binary_images(undistorter, color_thresholder.combined_color_thresholds, cvt_2_gray=False), title1='Combined Color Transform' )\n"
   ]
  },
  {
   "cell_type": "code",
   "execution_count": null,
   "metadata": {},
   "outputs": [],
   "source": [
    "img = mpimg.imread('test_images/test5.jpg')\n",
    "undist = undistorter.undistort_image(img)\n",
    "\n",
    "def find_color_thresholds(H_thresh, S_thresh):\n",
    "    color_thresholder = ImageColorThresholder(ch_thresh = (('H', H_thresh,), ('S', S_thresh,),) )\n",
    "    binary = color_thresholder.combined_color_thresholds(undist)\n",
    "    \n",
    "    _show_dist_undist_images_by_2([(img, binary)])\n",
    "    plt.show()\n",
    "    \n",
    "interact(find_color_thresholds,\n",
    "            H_thresh=widgets.FloatRangeSlider(value=[15, 100], min=0, max=180, step=1,),\n",
    "            # L_thresh=widgets.FloatRangeSlider(value=[2, 20], min=0, max=255, step=1,),\n",
    "            S_thresh=widgets.FloatRangeSlider(value=[90, 255], min=0, max=255, step=1,),\n",
    "        )"
   ]
  },
  {
   "cell_type": "markdown",
   "metadata": {},
   "source": [
    "## 4. "
   ]
  },
  {
   "cell_type": "code",
   "execution_count": null,
   "metadata": {
    "collapsed": true
   },
   "outputs": [],
   "source": [
    "def image_processing_pipeline(undistorter, perspective_warper, sobel_thresholder, color_thresholder, img):\n",
    "    undist = undistorter.undistort_image(img)\n",
    "    warped = perspective_warper.warp_perspective(undist)\n",
    "    \n",
    "    color_binary = color_thresholder.color_threshold(warped)\n",
    "    sobel_binary = sobel_thresholder.combined_sobel_thresholds(color_binary)\n",
    "    \n",
    "    binary = np.zeros_like(color_binary)\n",
    "    binary[(sobel_binary == 1) | (color_binary == 1)] = 1\n",
    "    \n",
    "    return undist, warped, binary"
   ]
  },
  {
   "cell_type": "code",
   "execution_count": null,
   "metadata": {
    "collapsed": true
   },
   "outputs": [],
   "source": [
    "class LanesFinder:\n",
    "    def __init__(self, nb_window=15, margin=100, minpix=20):\n",
    "        self.nb_window = nb_window\n",
    "        self.margin = margin\n",
    "        self.minpix = minpix\n",
    "    \n",
    "    def find_lanes(self, binary_warped, draw_window=False):\n",
    "        def measure_curvature(ploty, left_fitx, right_fitx):\n",
    "            y_eval = np.max(ploty)\n",
    "            # Define conversions in x and y from pixels space to meters\n",
    "            ym_per_pix = 30/720 # meters per pixel in y dimension\n",
    "            xm_per_pix = 3.7/700 # meters per pixel in x dimension\n",
    "\n",
    "            # Fit new polynomials to x,y in world space\n",
    "            left_fit_cr = np.polyfit(ploty*ym_per_pix, left_fitx*xm_per_pix, 2)\n",
    "            right_fit_cr = np.polyfit(ploty*ym_per_pix, right_fitx*xm_per_pix, 2)\n",
    "            # Calculate the new radii of curvature\n",
    "            left_curverad = ((1 + (2*left_fit_cr[0]*y_eval*ym_per_pix + left_fit_cr[1])**2)**1.5) / np.absolute(2*left_fit_cr[0])\n",
    "            right_curverad = ((1 + (2*right_fit_cr[0]*y_eval*ym_per_pix + right_fit_cr[1])**2)**1.5) / np.absolute(2*right_fit_cr[0])\n",
    "            # Now our radius of curvature is in meters\n",
    "            return left_curverad, right_curverad\n",
    "        \n",
    "        out_img = np.dstack((binary_warped, binary_warped, binary_warped))*255\n",
    "        left_lane_inds, right_lane_inds = [], []\n",
    "        \n",
    "        # Set height of windows\n",
    "        window_height = np.int(binary_warped.shape[0]/self.nb_window)\n",
    "        # Identify the x and y positions of all nonzero pixels in the image\n",
    "        nonzero = binary_warped.nonzero()\n",
    "        nonzeroy = np.array(nonzero[0])\n",
    "        nonzerox = np.array(nonzero[1])\n",
    "        \n",
    "        leftx_current, rightx_current = None, None\n",
    "        \n",
    "        for idx, window in enumerate(range(self.nb_window)):\n",
    "            win_from = np.int((idx+1) * window_height)\n",
    "            histogram = np.sum(binary_warped[win_from:,:], axis=0)\n",
    "            \n",
    "            midpoint = np.int(histogram.shape[0]/2)\n",
    "            if leftx_current is None:\n",
    "                leftx_current = np.argmax(histogram[:midpoint])\n",
    "                \n",
    "            if rightx_current is None:\n",
    "                rightx_current = np.argmax(histogram[midpoint:]) + midpoint\n",
    "            \n",
    "            # Identify window boundaries in x and y (and right and left)\n",
    "            win_y_low = binary_warped.shape[0] - (window+1)*window_height\n",
    "            win_y_high = binary_warped.shape[0] - window*window_height\n",
    "            win_xleft_low = leftx_current - self.margin\n",
    "            win_xleft_high = leftx_current + self.margin\n",
    "            win_xright_low = rightx_current - self.margin\n",
    "            win_xright_high = rightx_current + self.margin\n",
    "            \n",
    "            # Draw the windows on the visualization image\n",
    "            if draw_window:\n",
    "                cv2.rectangle(out_img,(win_xleft_low, win_y_low),(win_xleft_high, win_y_high),(0,255,0), 2) \n",
    "                cv2.rectangle(out_img,(win_xright_low, win_y_low),(win_xright_high, win_y_high),(0,255,0), 2) \n",
    "            \n",
    "            # Identify the nonzero pixels in x and y within the window\n",
    "            good_left_inds = ((nonzeroy >= win_y_low) & (nonzeroy < win_y_high) & (nonzerox >= win_xleft_low) & (nonzerox < win_xleft_high)).nonzero()[0]\n",
    "            good_right_inds = ((nonzeroy >= win_y_low) & (nonzeroy < win_y_high) & (nonzerox >= win_xright_low) & (nonzerox < win_xright_high)).nonzero()[0]\n",
    "            \n",
    "            # Append these indices to the lists\n",
    "            left_lane_inds.append(good_left_inds)\n",
    "            right_lane_inds.append(good_right_inds)\n",
    "            \n",
    "            # If you found > minpix pixels, recenter next window on their mean position\n",
    "            if len(good_left_inds) > self.minpix:\n",
    "                leftx_current = np.int(np.mean(nonzerox[good_left_inds]))\n",
    "            if len(good_right_inds) > self.minpix:        \n",
    "                rightx_current = np.int(np.mean(nonzerox[good_right_inds]))\n",
    "        \n",
    "        # Concatenate the arrays of indices\n",
    "        left_lane_inds = np.concatenate(left_lane_inds)\n",
    "        right_lane_inds = np.concatenate(right_lane_inds)\n",
    "\n",
    "        # Extract left and right line pixel positions\n",
    "        leftx = nonzerox[left_lane_inds]\n",
    "        lefty = nonzeroy[left_lane_inds] \n",
    "        rightx = nonzerox[right_lane_inds]\n",
    "        righty = nonzeroy[right_lane_inds] \n",
    "\n",
    "        # Fit a second order polynomial to each\n",
    "        if lefty.size == 0 or righty.size == 0:\n",
    "            return None, None, None, None, None\n",
    "    \n",
    "        left_fit = np.polyfit(lefty, leftx, 2)\n",
    "        right_fit = np.polyfit(righty, rightx, 2)\n",
    "    \n",
    "        # Visualize the draw\n",
    "        # Generate x and y values for plotting\n",
    "        ploty = np.linspace(0, binary_warped.shape[0]-1, binary_warped.shape[0] )\n",
    "        left_fitx = left_fit[0]*ploty**2 + left_fit[1]*ploty + left_fit[2]\n",
    "        right_fitx = right_fit[0]*ploty**2 + right_fit[1]*ploty + right_fit[2]\n",
    "\n",
    "        left_curverad, right_curverad = measure_curvature(ploty, left_fitx, right_fitx)\n",
    "        \n",
    "        return ploty, left_fitx, right_fitx, left_curverad, right_curverad"
   ]
  },
  {
   "cell_type": "code",
   "execution_count": null,
   "metadata": {
    "collapsed": true
   },
   "outputs": [],
   "source": []
  },
  {
   "cell_type": "code",
   "execution_count": null,
   "metadata": {
    "scrolled": false
   },
   "outputs": [],
   "source": [
    "lanes_finder = LanesFinder()\n",
    "\n",
    "def process_image(img):\n",
    "    def putText(img, title, location):\n",
    "        font = cv2.FONT_HERSHEY_SIMPLEX\n",
    "        cv2.putText(img, title, location, font, 1,(255,255,255), 3,cv2.LINE_AA)\n",
    "    \n",
    "    undist, warped, binary = image_processing_pipeline(undistorter, persp_warper, sobel_thresholder, color_thresholder, img)\n",
    "    \n",
    "    if binary is None:\n",
    "        return img\n",
    "    \n",
    "    ploty, left_fitx, right_fitx, left_curverad, right_curverad = lanes_finder.find_lanes(binary)\n",
    "    \n",
    "    if ploty is None:\n",
    "        return img\n",
    "    \n",
    "    # Create an image to draw the lines on\n",
    "    warp_zero = np.zeros_like(binary).astype(np.uint8)\n",
    "    color_warp = np.dstack((warp_zero, warp_zero, warp_zero))\n",
    "\n",
    "    # Recast the x and y points into usable format for cv2.fillPoly()\n",
    "    pts_left = np.array([np.transpose(np.vstack([left_fitx, ploty]))])\n",
    "    pts_right = np.array([np.flipud(np.transpose(np.vstack([right_fitx, ploty])))])\n",
    "    pts = np.hstack((pts_left, pts_right))\n",
    " \n",
    "    # Draw the lane onto the warped blank image\n",
    "    cv2.fillPoly(color_warp, np.int_([pts]), (0,255, 0))\n",
    "\n",
    "    # Warp the blank back to original image space using inverse perspective matrix (Minv)\n",
    "    newwarp =  persp_warper.unwarp_perspective(color_warp)\n",
    "    # Combine the result with the original image\n",
    "    result = cv2.addWeighted(undist, 1, newwarp, 0.3, 0)\n",
    "    \n",
    "    putText(result, 'Left  curve: %.2f m'%(left_curverad), (10,60))\n",
    "    putText(result, 'Right curve: %.2f m'%(right_curverad), (10,110))\n",
    "    \n",
    "    return result\n",
    "\n",
    "\n",
    "for fn in _build_full_paths('test_images/'):\n",
    "    img = mpimg.imread(fn)\n",
    "    result = process_image(img)\n",
    "    \n",
    "    fig = plt.figure()\n",
    "    ax = fig.add_subplot(111)\n",
    "    ax.imshow(result)\n",
    "    "
   ]
  },
  {
   "cell_type": "code",
   "execution_count": null,
   "metadata": {},
   "outputs": [],
   "source": [
    "from moviepy.editor import VideoFileClip\n",
    "from IPython.display import HTML\n",
    "\n",
    "project_output = 'project.mp4'\n",
    "clip1 = VideoFileClip(\"project_video.mp4\")\n",
    "white_clip = clip1.fl_image(process_image) \n",
    "\n",
    "%time white_clip.write_videofile(project_output, audio=False)"
   ]
  },
  {
   "cell_type": "code",
   "execution_count": null,
   "metadata": {},
   "outputs": [],
   "source": [
    "HTML(\"\"\"\n",
    "<video width=\"960\" height=\"540\" controls>\n",
    "  <source src=\"{0}\">\n",
    "</video>\n",
    "\"\"\".format(project_output))"
   ]
  },
  {
   "cell_type": "code",
   "execution_count": null,
   "metadata": {
    "scrolled": true
   },
   "outputs": [],
   "source": [
    "challenge_output = 'challenge.mp4'\n",
    "clip1 = VideoFileClip(\"challenge_video.mp4\")\n",
    "white_clip = clip1.fl_image(process_image) \n",
    "\n",
    "%time white_clip.write_videofile(challenge_output, audio=False)"
   ]
  },
  {
   "cell_type": "code",
   "execution_count": null,
   "metadata": {},
   "outputs": [],
   "source": [
    "HTML(\"\"\"\n",
    "<video width=\"960\" height=\"540\" controls>\n",
    "  <source src=\"{0}\">\n",
    "</video>\n",
    "\"\"\".format(challenge_output))"
   ]
  },
  {
   "cell_type": "code",
   "execution_count": null,
   "metadata": {
    "collapsed": true
   },
   "outputs": [],
   "source": []
  }
 ],
 "metadata": {
  "kernelspec": {
   "display_name": "Python 3",
   "language": "python",
   "name": "python3"
  },
  "language_info": {
   "codemirror_mode": {
    "name": "ipython",
    "version": 3
   },
   "file_extension": ".py",
   "mimetype": "text/x-python",
   "name": "python",
   "nbconvert_exporter": "python",
   "pygments_lexer": "ipython3",
   "version": "3.5.2"
  }
 },
 "nbformat": 4,
 "nbformat_minor": 2
}
